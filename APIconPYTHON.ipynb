{
 "cells": [
  {
   "cell_type": "markdown",
   "metadata": {},
   "source": [
    "API con PYTHON - cómo hacer request a una API"
   ]
  },
  {
   "cell_type": "code",
   "execution_count": 17,
   "metadata": {},
   "outputs": [],
   "source": [
    "import requests\n",
    "import json\n",
    "\n",
    "# requests simple\n",
    "url = 'https://rickandmortyapi.com/api/character/2'"
   ]
  },
  {
   "cell_type": "code",
   "execution_count": 20,
   "metadata": {},
   "outputs": [
    {
     "name": "stdout",
     "output_type": "stream",
     "text": [
      "{'id': 2, 'name': 'Morty Smith', 'status': 'Alive', 'species': 'Human', 'type': '', 'gender': 'Male', 'origin': {'name': 'unknown', 'url': ''}, 'location': {'name': 'Citadel of Ricks', 'url': 'https://rickandmortyapi.com/api/location/3'}, 'image': 'https://rickandmortyapi.com/api/character/avatar/2.jpeg', 'episode': ['https://rickandmortyapi.com/api/episode/1', 'https://rickandmortyapi.com/api/episode/2', 'https://rickandmortyapi.com/api/episode/3', 'https://rickandmortyapi.com/api/episode/4', 'https://rickandmortyapi.com/api/episode/5', 'https://rickandmortyapi.com/api/episode/6', 'https://rickandmortyapi.com/api/episode/7', 'https://rickandmortyapi.com/api/episode/8', 'https://rickandmortyapi.com/api/episode/9', 'https://rickandmortyapi.com/api/episode/10', 'https://rickandmortyapi.com/api/episode/11', 'https://rickandmortyapi.com/api/episode/12', 'https://rickandmortyapi.com/api/episode/13', 'https://rickandmortyapi.com/api/episode/14', 'https://rickandmortyapi.com/api/episode/15', 'https://rickandmortyapi.com/api/episode/16', 'https://rickandmortyapi.com/api/episode/17', 'https://rickandmortyapi.com/api/episode/18', 'https://rickandmortyapi.com/api/episode/19', 'https://rickandmortyapi.com/api/episode/20', 'https://rickandmortyapi.com/api/episode/21', 'https://rickandmortyapi.com/api/episode/22', 'https://rickandmortyapi.com/api/episode/23', 'https://rickandmortyapi.com/api/episode/24', 'https://rickandmortyapi.com/api/episode/25', 'https://rickandmortyapi.com/api/episode/26', 'https://rickandmortyapi.com/api/episode/27', 'https://rickandmortyapi.com/api/episode/28', 'https://rickandmortyapi.com/api/episode/29', 'https://rickandmortyapi.com/api/episode/30', 'https://rickandmortyapi.com/api/episode/31', 'https://rickandmortyapi.com/api/episode/32', 'https://rickandmortyapi.com/api/episode/33', 'https://rickandmortyapi.com/api/episode/34', 'https://rickandmortyapi.com/api/episode/35', 'https://rickandmortyapi.com/api/episode/36', 'https://rickandmortyapi.com/api/episode/37', 'https://rickandmortyapi.com/api/episode/38', 'https://rickandmortyapi.com/api/episode/39', 'https://rickandmortyapi.com/api/episode/40', 'https://rickandmortyapi.com/api/episode/41', 'https://rickandmortyapi.com/api/episode/42', 'https://rickandmortyapi.com/api/episode/43', 'https://rickandmortyapi.com/api/episode/44', 'https://rickandmortyapi.com/api/episode/45', 'https://rickandmortyapi.com/api/episode/46', 'https://rickandmortyapi.com/api/episode/47', 'https://rickandmortyapi.com/api/episode/48', 'https://rickandmortyapi.com/api/episode/49', 'https://rickandmortyapi.com/api/episode/50', 'https://rickandmortyapi.com/api/episode/51'], 'url': 'https://rickandmortyapi.com/api/character/2', 'created': '2017-11-04T18:50:21.651Z'}\n"
     ]
    }
   ],
   "source": [
    "response = requests.get(url)\n",
    "texto = response.text\n",
    "tipo_json = response.json()\n",
    "\n",
    "print(tipo_json)"
   ]
  },
  {
   "cell_type": "code",
   "execution_count": 19,
   "metadata": {},
   "outputs": [
    {
     "name": "stdout",
     "output_type": "stream",
     "text": [
      "{'id': 2, 'name': 'Morty Smith', 'status': 'Alive', 'species': 'Human', 'type': '', 'gender': 'Male', 'origin': {'name': 'unknown', 'url': ''}, 'location': {'name': 'Citadel of Ricks', 'url': 'https://rickandmortyapi.com/api/location/3'}, 'image': 'https://rickandmortyapi.com/api/character/avatar/2.jpeg', 'episode': ['https://rickandmortyapi.com/api/episode/1', 'https://rickandmortyapi.com/api/episode/2', 'https://rickandmortyapi.com/api/episode/3', 'https://rickandmortyapi.com/api/episode/4', 'https://rickandmortyapi.com/api/episode/5', 'https://rickandmortyapi.com/api/episode/6', 'https://rickandmortyapi.com/api/episode/7', 'https://rickandmortyapi.com/api/episode/8', 'https://rickandmortyapi.com/api/episode/9', 'https://rickandmortyapi.com/api/episode/10', 'https://rickandmortyapi.com/api/episode/11', 'https://rickandmortyapi.com/api/episode/12', 'https://rickandmortyapi.com/api/episode/13', 'https://rickandmortyapi.com/api/episode/14', 'https://rickandmortyapi.com/api/episode/15', 'https://rickandmortyapi.com/api/episode/16', 'https://rickandmortyapi.com/api/episode/17', 'https://rickandmortyapi.com/api/episode/18', 'https://rickandmortyapi.com/api/episode/19', 'https://rickandmortyapi.com/api/episode/20', 'https://rickandmortyapi.com/api/episode/21', 'https://rickandmortyapi.com/api/episode/22', 'https://rickandmortyapi.com/api/episode/23', 'https://rickandmortyapi.com/api/episode/24', 'https://rickandmortyapi.com/api/episode/25', 'https://rickandmortyapi.com/api/episode/26', 'https://rickandmortyapi.com/api/episode/27', 'https://rickandmortyapi.com/api/episode/28', 'https://rickandmortyapi.com/api/episode/29', 'https://rickandmortyapi.com/api/episode/30', 'https://rickandmortyapi.com/api/episode/31', 'https://rickandmortyapi.com/api/episode/32', 'https://rickandmortyapi.com/api/episode/33', 'https://rickandmortyapi.com/api/episode/34', 'https://rickandmortyapi.com/api/episode/35', 'https://rickandmortyapi.com/api/episode/36', 'https://rickandmortyapi.com/api/episode/37', 'https://rickandmortyapi.com/api/episode/38', 'https://rickandmortyapi.com/api/episode/39', 'https://rickandmortyapi.com/api/episode/40', 'https://rickandmortyapi.com/api/episode/41', 'https://rickandmortyapi.com/api/episode/42', 'https://rickandmortyapi.com/api/episode/43', 'https://rickandmortyapi.com/api/episode/44', 'https://rickandmortyapi.com/api/episode/45', 'https://rickandmortyapi.com/api/episode/46', 'https://rickandmortyapi.com/api/episode/47', 'https://rickandmortyapi.com/api/episode/48', 'https://rickandmortyapi.com/api/episode/49', 'https://rickandmortyapi.com/api/episode/50', 'https://rickandmortyapi.com/api/episode/51'], 'url': 'https://rickandmortyapi.com/api/character/2', 'created': '2017-11-04T18:50:21.651Z'}\n",
      "dict_keys(['id', 'name', 'status', 'species', 'type', 'gender', 'origin', 'location', 'image', 'episode', 'url', 'created'])\n"
     ]
    }
   ],
   "source": [
    "\n",
    "print(tipo_json.keys())"
   ]
  },
  {
   "cell_type": "code",
   "execution_count": 13,
   "metadata": {},
   "outputs": [
    {
     "data": {
      "text/plain": [
       "'Alive'"
      ]
     },
     "execution_count": 13,
     "metadata": {},
     "output_type": "execute_result"
    }
   ],
   "source": [
    "tipo_json['status']"
   ]
  },
  {
   "cell_type": "code",
   "execution_count": 27,
   "metadata": {},
   "outputs": [
    {
     "name": "stdout",
     "output_type": "stream",
     "text": [
      "Personaje Rick Sanchez, status: Alive\n",
      "Personaje Morty Smith, status: Alive\n",
      "Personaje Summer Smith, status: Alive\n",
      "Personaje Beth Smith, status: Alive\n",
      "Personaje Jerry Smith, status: Alive\n"
     ]
    }
   ],
   "source": [
    "i = 1\n",
    "while(i <= 5 ):\n",
    "    url = 'https://rickandmortyapi.com/api/character/{}'.format(i)\n",
    "    response = requests.get(url)\n",
    "    texto = response.text\n",
    "    tipo_json = response.json()\n",
    "    print('Personaje {}, status: {}'.format(tipo_json['name'],tipo_json['status']))\n",
    "    i = i + 1\n",
    "    \n",
    "    "
   ]
  },
  {
   "cell_type": "code",
   "execution_count": 31,
   "metadata": {},
   "outputs": [
    {
     "name": "stdout",
     "output_type": "stream",
     "text": [
      "Name Pilot, Personajes: ['https://rickandmortyapi.com/api/character/1', 'https://rickandmortyapi.com/api/character/2', 'https://rickandmortyapi.com/api/character/35', 'https://rickandmortyapi.com/api/character/38', 'https://rickandmortyapi.com/api/character/62', 'https://rickandmortyapi.com/api/character/92', 'https://rickandmortyapi.com/api/character/127', 'https://rickandmortyapi.com/api/character/144', 'https://rickandmortyapi.com/api/character/158', 'https://rickandmortyapi.com/api/character/175', 'https://rickandmortyapi.com/api/character/179', 'https://rickandmortyapi.com/api/character/181', 'https://rickandmortyapi.com/api/character/239', 'https://rickandmortyapi.com/api/character/249', 'https://rickandmortyapi.com/api/character/271', 'https://rickandmortyapi.com/api/character/338', 'https://rickandmortyapi.com/api/character/394', 'https://rickandmortyapi.com/api/character/395', 'https://rickandmortyapi.com/api/character/435']\n",
      "Name Lawnmower Dog, Personajes: ['https://rickandmortyapi.com/api/character/1', 'https://rickandmortyapi.com/api/character/2', 'https://rickandmortyapi.com/api/character/38', 'https://rickandmortyapi.com/api/character/46', 'https://rickandmortyapi.com/api/character/63', 'https://rickandmortyapi.com/api/character/80', 'https://rickandmortyapi.com/api/character/175', 'https://rickandmortyapi.com/api/character/221', 'https://rickandmortyapi.com/api/character/239', 'https://rickandmortyapi.com/api/character/246', 'https://rickandmortyapi.com/api/character/304', 'https://rickandmortyapi.com/api/character/305', 'https://rickandmortyapi.com/api/character/306', 'https://rickandmortyapi.com/api/character/329', 'https://rickandmortyapi.com/api/character/338', 'https://rickandmortyapi.com/api/character/396', 'https://rickandmortyapi.com/api/character/397', 'https://rickandmortyapi.com/api/character/398', 'https://rickandmortyapi.com/api/character/405']\n",
      "Name Anatomy Park, Personajes: ['https://rickandmortyapi.com/api/character/1', 'https://rickandmortyapi.com/api/character/2', 'https://rickandmortyapi.com/api/character/12', 'https://rickandmortyapi.com/api/character/17', 'https://rickandmortyapi.com/api/character/38', 'https://rickandmortyapi.com/api/character/45', 'https://rickandmortyapi.com/api/character/96', 'https://rickandmortyapi.com/api/character/97', 'https://rickandmortyapi.com/api/character/98', 'https://rickandmortyapi.com/api/character/99', 'https://rickandmortyapi.com/api/character/100', 'https://rickandmortyapi.com/api/character/101', 'https://rickandmortyapi.com/api/character/108', 'https://rickandmortyapi.com/api/character/112', 'https://rickandmortyapi.com/api/character/114', 'https://rickandmortyapi.com/api/character/169', 'https://rickandmortyapi.com/api/character/175', 'https://rickandmortyapi.com/api/character/186', 'https://rickandmortyapi.com/api/character/201', 'https://rickandmortyapi.com/api/character/268', 'https://rickandmortyapi.com/api/character/300', 'https://rickandmortyapi.com/api/character/302', 'https://rickandmortyapi.com/api/character/338', 'https://rickandmortyapi.com/api/character/356']\n",
      "Name M. Night Shaym-Aliens!, Personajes: ['https://rickandmortyapi.com/api/character/1', 'https://rickandmortyapi.com/api/character/2', 'https://rickandmortyapi.com/api/character/38', 'https://rickandmortyapi.com/api/character/87', 'https://rickandmortyapi.com/api/character/175', 'https://rickandmortyapi.com/api/character/179', 'https://rickandmortyapi.com/api/character/181', 'https://rickandmortyapi.com/api/character/191', 'https://rickandmortyapi.com/api/character/239', 'https://rickandmortyapi.com/api/character/241', 'https://rickandmortyapi.com/api/character/270', 'https://rickandmortyapi.com/api/character/337', 'https://rickandmortyapi.com/api/character/338']\n",
      "Name Meeseeks and Destroy, Personajes: ['https://rickandmortyapi.com/api/character/1', 'https://rickandmortyapi.com/api/character/2', 'https://rickandmortyapi.com/api/character/38', 'https://rickandmortyapi.com/api/character/41', 'https://rickandmortyapi.com/api/character/89', 'https://rickandmortyapi.com/api/character/116', 'https://rickandmortyapi.com/api/character/117', 'https://rickandmortyapi.com/api/character/120', 'https://rickandmortyapi.com/api/character/175', 'https://rickandmortyapi.com/api/character/193', 'https://rickandmortyapi.com/api/character/238', 'https://rickandmortyapi.com/api/character/242', 'https://rickandmortyapi.com/api/character/271', 'https://rickandmortyapi.com/api/character/303', 'https://rickandmortyapi.com/api/character/326', 'https://rickandmortyapi.com/api/character/333', 'https://rickandmortyapi.com/api/character/338', 'https://rickandmortyapi.com/api/character/343', 'https://rickandmortyapi.com/api/character/399', 'https://rickandmortyapi.com/api/character/400']\n"
     ]
    }
   ],
   "source": [
    "i = 1\n",
    "while(i <= 5 ):\n",
    "    url = 'https://rickandmortyapi.com/api/episode/{}'.format(i)\n",
    "    response = requests.get(url)\n",
    "    texto = response.text\n",
    "    tipo_json = response.json()\n",
    "    print('Name {}, Personajes: {}'.format(tipo_json['name'],tipo_json['characters']))\n",
    "    i = i + 1"
   ]
  },
  {
   "cell_type": "code",
   "execution_count": 39,
   "metadata": {},
   "outputs": [
    {
     "name": "stdout",
     "output_type": "stream",
     "text": [
      "['Rick Sanchez', 'Morty Smith', 'Beth Smith', 'Davin', 'Frank Palicky', 'Jerry Smith', \"Jessica's Friend\", 'Mrs. Sanchez', 'Summer Smith']\n",
      "['Bepisian', 'Canklanker Thom', 'Glenn', 'Hookah Alien', 'Jessica', 'Mr. Goldenfold', 'Principal Vagina', 'Davin', 'Greebybobe', 'Pripudlian']\n"
     ]
    }
   ],
   "source": [
    "i = 1\n",
    "url = 'https://rickandmortyapi.com/api/episode/{}'.format(i)\n",
    "response = requests.get(url)\n",
    "texto = response.text\n",
    "tipo_json = response.json()\n",
    "Personajes = tipo_json['characters']\n",
    "list_names_humans = list() \n",
    "list_names_no_humans = list() \n",
    "for personaje in Personajes:\n",
    "    rta = requests.get(personaje)\n",
    "    js = rta.json()\n",
    "    if js['species'] == 'Human':\n",
    "        list_names_humans.append(js['name'])\n",
    "    else:\n",
    "        list_names_no_humans.append(js['name'])\n",
    "\n",
    "print(list_names_humans)\n",
    "print(list_names_no_humans)"
   ]
  }
 ],
 "metadata": {
  "kernelspec": {
   "display_name": "Python 3",
   "language": "python",
   "name": "python3"
  },
  "language_info": {
   "codemirror_mode": {
    "name": "ipython",
    "version": 3
   },
   "file_extension": ".py",
   "mimetype": "text/x-python",
   "name": "python",
   "nbconvert_exporter": "python",
   "pygments_lexer": "ipython3",
   "version": "3.11.2"
  }
 },
 "nbformat": 4,
 "nbformat_minor": 2
}
